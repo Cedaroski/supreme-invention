{
 "cells": [
  {
   "cell_type": "code",
   "execution_count": 1,
   "metadata": {},
   "outputs": [],
   "source": [
    "\"\"\"\n",
    "Mobile robot motion planning sample with Dynamic Window Approach\n",
    "author: Atsushi Sakai (@Atsushi_twi)\n",
    "\"\"\"\n",
    "import time\n",
    "import math\n",
    "import numpy as np\n",
    "import matplotlib.pyplot as plt\n",
    "\n",
    "from Referee.ICRAMap import BORDER_POS, BORDER_BOX\n",
    "\n",
    "show_animation = True"
   ]
  },
  {
   "cell_type": "code",
   "execution_count": 97,
   "metadata": {},
   "outputs": [],
   "source": [
    "class Config():\n",
    "    # simulation parameters\n",
    "\n",
    "    def __init__(self):\n",
    "        # robot parameter\n",
    "        self.max_speed = 1.0  # [m/s]\n",
    "        self.min_speed = -0.5  # [m/s]\n",
    "        self.max_yawrate = 40.0 * math.pi / 180.0  # [rad/s]\n",
    "        self.max_accel = 0.2  # [m/ss]\n",
    "        self.max_dyawrate = 40.0 * math.pi / 180.0  # [rad/ss]\n",
    "        self.v_reso = 0.01  # [m/s]\n",
    "        self.yawrate_reso = 0.1 * math.pi / 180.0  # [rad/s]\n",
    "        self.dt = 0.1  # [s]\n",
    "        self.predict_time = 3.0  # [s]\n",
    "        self.to_goal_cost_gain = 100.0\n",
    "        self.speed_cost_gain = 1.0\n",
    "        self.robot_radius = 0.25  # [m]\n",
    "\n",
    "\n",
    "def motion(x, u, dt):\n",
    "    # motion model\n",
    "\n",
    "    x[2] += u[1] * dt\n",
    "    x[0] += u[0] * math.cos(x[2]) * dt\n",
    "    x[1] += u[0] * math.sin(x[2]) * dt\n",
    "    x[3] = u[0]\n",
    "    x[4] = u[1]\n",
    "\n",
    "    return x\n",
    "\n",
    "\n",
    "def calc_dynamic_window(x, config):\n",
    "\n",
    "    # Dynamic window from robot specification\n",
    "    Vs = [config.min_speed, config.max_speed,\n",
    "          -config.max_yawrate, config.max_yawrate]\n",
    "\n",
    "    # Dynamic window from motion model\n",
    "    Vd = [x[3] - config.max_accel * config.dt,\n",
    "          x[3] + config.max_accel * config.dt,\n",
    "          x[4] - config.max_dyawrate * config.dt,\n",
    "          x[4] + config.max_dyawrate * config.dt]\n",
    "\n",
    "    #  [vmin,vmax, yawrate min, yawrate max]\n",
    "    dw = [max(Vs[0], Vd[0]), min(Vs[1], Vd[1]),\n",
    "          max(Vs[2], Vd[2]), min(Vs[3], Vd[3])]\n",
    "\n",
    "    return dw\n",
    "\n",
    "\n",
    "def calc_trajectory(xinit, v, y, config):\n",
    "\n",
    "    x = np.array(xinit)\n",
    "    traj = np.array(x)\n",
    "    time = 0\n",
    "    while time <= config.predict_time:\n",
    "        x = motion(x, [v, y], config.dt)\n",
    "        traj = np.vstack((traj, x))\n",
    "        time += config.dt\n",
    "\n",
    "    return traj\n",
    "\n",
    "\n",
    "def calc_final_input(x, u, dw, config, goal, ob):\n",
    "\n",
    "    xinit = x[:]\n",
    "    min_cost = 10000.0\n",
    "    min_u = u\n",
    "    min_u[0] = 0.0\n",
    "    best_traj = np.array([x])\n",
    "    record = []\n",
    "\n",
    "    # evalucate all trajectory with sampled input in dynamic window\n",
    "    for v in np.arange(dw[0], dw[1], config.v_reso):\n",
    "        for y in np.arange(dw[2], dw[3], config.yawrate_reso):\n",
    "            traj = calc_trajectory(xinit, v, y, config)\n",
    "\n",
    "            # calc cost\n",
    "            to_goal_cost = calc_to_goal_cost(traj, goal, config)\n",
    "            speed_cost = config.speed_cost_gain * \\\n",
    "                (config.max_speed - traj[-1, 3])\n",
    "            ob_cost = calc_obstacle_cost(traj, ob, config)\n",
    "            #print(\"ob cost: {}\".format(ob_cost))\n",
    "\n",
    "            final_cost = to_goal_cost + speed_cost + ob_cost\n",
    "\n",
    "            #print (to_goal_cost, speed_cost, final_cost)\n",
    "\n",
    "            # search minimum trajectory\n",
    "            if min_cost >= final_cost:\n",
    "                min_cost = final_cost\n",
    "                min_u = [v, y]\n",
    "                best_traj = traj\n",
    "                record = [to_goal_cost, speed_cost, ob_cost]\n",
    "                \n",
    "    print(record)\n",
    "\n",
    "    return min_u, best_traj\n",
    "\n",
    "\n",
    "def calc_obstacle_cost(traj, ob, config):\n",
    "    # calc obstacle cost inf: collistion, 0:free\n",
    "\n",
    "    skip_n = 2\n",
    "    minr = float(\"inf\")\n",
    "\n",
    "    for ii in range(0, len(traj[:, 1]), skip_n):\n",
    "        x = int(traj[ii, 0]*10)\n",
    "        y = int(traj[ii, 1]*10)\n",
    "        ox, oy = ob[y, x]\n",
    "        dx = (traj[ii, 0]) - ox\n",
    "        dy = (traj[ii, 1]) - oy\n",
    "        #r = np.hypot(dx, dy)\n",
    "        r = math.sqrt(dx**2 + dy**2)\n",
    "        if r <= config.robot_radius:\n",
    "            #print(\"r: {}\".format(r))\n",
    "            return float(\"Inf\")  # collision\n",
    "        if minr >= r:\n",
    "            minr = r\n",
    "        '''\n",
    "        for i in range(len(ob[:, 0])):\n",
    "            ox = ob[i, 0]\n",
    "            oy = ob[i, 1]\n",
    "            dx = traj[ii, 0] - ox\n",
    "            dy = traj[ii, 1] - oy\n",
    "\n",
    "            r = math.sqrt(dx**2 + dy**2)\n",
    "            if r <= config.robot_radius:\n",
    "                print(\"r: {}\".format(r))\n",
    "                return float(\"Inf\")  # collision\n",
    "\n",
    "            if minr >= r:\n",
    "                minr = r\n",
    "        '''\n",
    "\n",
    "    #print(\"minr: {}\".format(minr))\n",
    "    return 1.0 / minr  # OK\n",
    "\n",
    "\n",
    "def calc_to_goal_cost(traj, goal, config):\n",
    "    # calc to goal cost. It is 2D norm.\n",
    "\n",
    "    #goal_magnitude = math.sqrt(goal[0]**2 + goal[1]**2)\n",
    "    #traj_magnitude = math.sqrt(traj[-1, 0]**2 + traj[-1, 1]**2)\n",
    "    #dot_product = (goal[0] * traj[-1, 0]) + (goal[1] * traj[-1, 1])\n",
    "    #error = dot_product / (goal_magnitude * traj_magnitude)\n",
    "    #error_angle = math.acos(error)\n",
    "    #cost = config.to_goal_cost_gain * error_angle\n",
    "    cost = config.to_goal_cost_gain * math.sqrt(\n",
    "        (goal[0]-traj[-1, 0])**2 + (goal[1]-traj[-1, 1])**2)\n",
    "\n",
    "    return cost\n",
    "\n",
    "\n",
    "def dwa_control(x, u, config, goal, ob):\n",
    "    # Dynamic Window control\n",
    "\n",
    "    dw = calc_dynamic_window(x, config)\n",
    "\n",
    "    u, traj = calc_final_input(x, u, dw, config, goal, ob)\n",
    "\n",
    "    return u, traj\n",
    "\n",
    "\n",
    "def plot_arrow(x, y, yaw, length=0.5, width=0.1):  # pragma: no cover\n",
    "    plt.arrow(x, y, length * math.cos(yaw), length * math.sin(yaw),\n",
    "              head_length=width, head_width=width)\n",
    "    plt.plot(x, y)\n",
    "\n",
    "def calc_repulsive_potential(x, y, ox, oy, rr):\n",
    "    # search nearest obstacle\n",
    "    minid = -1\n",
    "    dmin = float(\"inf\")\n",
    "    for i, _ in enumerate(ox):\n",
    "        #d = np.hypot(x - ox[i], y - oy[i])\n",
    "        d = math.sqrt((x - ox[i])**2 + (y - oy[i])**2)\n",
    "        if dmin >= d:\n",
    "            dmin = d\n",
    "            minid = i\n",
    "\n",
    "    # calc repulsive potential\n",
    "    #dq = np.hypot(x - ox[minid], y - oy[minid])\n",
    "    return np.array([ox[minid], oy[minid]])\n"
   ]
  },
  {
   "cell_type": "code",
   "execution_count": 3,
   "metadata": {},
   "outputs": [],
   "source": [
    "class DynamicWindow():\n",
    "    def __init__(self):\n",
    "        #ob = [[-1, -1]]\n",
    "        ox = []\n",
    "        oy = []\n",
    "        for (x, y), (w, h) in zip(BORDER_POS, BORDER_BOX):\n",
    "            for i in np.arange(x-w, x+w, 0.1):\n",
    "                for j in np.arange(y-h, y+h, 0.1):\n",
    "                    ox.append(i)\n",
    "                    oy.append(j)\n",
    "        ob = np.zeros([50, 80, 2])\n",
    "        for ix in range(80):\n",
    "            x = ix / 10\n",
    "            for iy in range(50):\n",
    "                y = iy / 10\n",
    "                ob[iy, ix] = calc_repulsive_potential(x, y, ox, oy, 0.25)\n",
    "        plt.imshow(ob[:,:,1])\n",
    "        plt.show()\n",
    "        self.ob = ob\n",
    "        self.config = Config()\n",
    "\n",
    "    def moveTo(self, action, pos, vel, angle, goal):\n",
    "        vel = math.sqrt(vel[0]**2+vel[1]**2)\n",
    "        x = np.array([pos[0], pos[1], angle, vel, 0.0])\n",
    "        u = np.array([vel, 0.0])\n",
    "        u, ltraj = dwa_control(x, u, self.config, goal, self.ob)\n",
    "        print(pos, goal, u)\n",
    "        action[0] = u[0]*2\n",
    "        action[1] = u[1]*2\n",
    "        return action\n",
    "\n"
   ]
  },
  {
   "cell_type": "code",
   "execution_count": 4,
   "metadata": {},
   "outputs": [],
   "source": [
    "def main(gx, gy, ob):\n",
    "    print(__file__ + \" start!!\")\n",
    "    # initial state [x(m), y(m), yaw(rad), v(m/s), omega(rad/s)]\n",
    "    x = np.array([0.5, 0.5, math.pi / 8.0, 0.0, 0.0])\n",
    "    # goal position [x(m), y(m)]\n",
    "    goal = np.array([gx, gy])\n",
    "    # obstacles [x(m) y(m), ....]\n",
    "    ox, oy = [], []\n",
    "    for (c_x, c_y), (w, h) in zip(BORDER_POS, BORDER_BOX):\n",
    "        for i in np.arange(c_x-w, c_x+w, 1):\n",
    "            for j in np.arange(c_y-h, c_y+h, 1):\n",
    "                ox.append(i)\n",
    "                oy.append(j)\n",
    "    #ob = np.array(ob)\n",
    "    '''\n",
    "    ob = np.array([[-1, -1],\n",
    "                   [0, 2],\n",
    "                   [4.0, 2.0],\n",
    "                   [5.0, 4.0],\n",
    "                   [5.0, 5.0],\n",
    "                   [5.0, 6.0],\n",
    "                   [5.0, 9.0],\n",
    "                   [8.0, 9.0],\n",
    "                   [7.0, 9.0],\n",
    "                   [12.0, 12.0]\n",
    "                   ])\n",
    "    '''\n",
    "\n",
    "    u = np.array([0.0, 0.0])\n",
    "    config = Config()\n",
    "    traj = np.array(x)\n",
    "\n",
    "    for i in range(1000):\n",
    "        tic = time.time() \n",
    "        u, ltraj = dwa_control(x, u, config, goal, ob)\n",
    "        print(time.time()-tic)\n",
    "\n",
    "        x = motion(x, u, config.dt)\n",
    "        traj = np.vstack((traj, x))  # store state history\n",
    "\n",
    "        # print(traj)\n",
    "        #print(x, goal, u)\n",
    "\n",
    "        if show_animation:\n",
    "            plt.cla()\n",
    "            plt.plot(ltraj[:, 0], ltraj[:, 1], \"-g\")\n",
    "            plt.plot(x[0], x[1], \"xr\")\n",
    "            plt.plot(goal[0], goal[1], \"xb\")\n",
    "            #plt.imshow(ob[:,:])\n",
    "            plt.plot(ox, oy, \"ok\")\n",
    "            plot_arrow(x[0], x[1], x[2])\n",
    "            plt.axis(\"equal\")\n",
    "            plt.grid(True)\n",
    "            plt.pause(0.0001)\n",
    "\n",
    "        # check goal\n",
    "        if math.sqrt((x[0] - goal[0])**2 + (x[1] - goal[1])**2) <= config.robot_radius:\n",
    "            print(\"Goal!!\")\n",
    "            break\n",
    "\n",
    "    print(\"Done\")\n",
    "    if show_animation:\n",
    "        plt.plot(traj[:, 0], traj[:, 1], \"-r\")\n",
    "        plt.pause(0.0001)\n",
    "\n",
    "    plt.show()\n",
    "\n",
    "\n"
   ]
  },
  {
   "cell_type": "code",
   "execution_count": 5,
   "metadata": {},
   "outputs": [
    {
     "data": {
      "image/png": "[encoded data removed]",
      "text/plain": [
       "<Figure size 432x288 with 1 Axes>"
      ]
     },
     "metadata": {
      "needs_background": "light"
     },
     "output_type": "display_data"
    }
   ],
   "source": [
    "dy = DynamicWindow()\n",
    "ob = dy.ob"
   ]
  },
  {
   "cell_type": "code",
   "execution_count": 6,
   "metadata": {},
   "outputs": [
    {
     "data": {
      "image/png": "[encoded data removed]",
      "text/plain": [
       "<Figure size 432x288 with 1 Axes>"
      ]
     },
     "metadata": {
      "needs_background": "light"
     },
     "output_type": "display_data"
    }
   ],
   "source": [
    "plt.imshow(ob[:,:,0])\n",
    "plt.show()"
   ]
  },
  {
   "cell_type": "code",
   "execution_count": 98,
   "metadata": {},
   "outputs": [],
   "source": [
    "gx, gy = 0.5, 1.5\n",
    "x = np.array([0.5, 0.5, math.pi / 8.0, 0.0, 0.0])\n",
    "# goal position [x(m), y(m)]\n",
    "goal = np.array([gx, gy])\n",
    "# obstacles [x(m) y(m), ....]\n",
    "ox, oy = [], []\n",
    "for (c_x, c_y), (w, h) in zip(BORDER_POS, BORDER_BOX):\n",
    "    for i in np.arange(c_x-w, c_x+w, 1):\n",
    "        for j in np.arange(c_y-h, c_y+h, 1):\n",
    "            ox.append(i)\n",
    "            oy.append(j)\n",
    "#ob = np.array(ob)\n",
    "'''\n",
    "ob = np.array([[-1, -1],\n",
    "               [0, 2],\n",
    "               [4.0, 2.0],\n",
    "               [5.0, 4.0],\n",
    "               [5.0, 5.0],\n",
    "               [5.0, 6.0],\n",
    "               [5.0, 9.0],\n",
    "               [8.0, 9.0],\n",
    "               [7.0, 9.0],\n",
    "               [12.0, 12.0]\n",
    "               ])\n",
    "'''\n",
    "\n",
    "u = np.array([0.0, 0.0])\n",
    "config = Config()\n",
    "traj = np.array(x)\n"
   ]
  },
  {
   "cell_type": "code",
   "execution_count": 103,
   "metadata": {
    "scrolled": true
   },
   "outputs": [
    {
     "name": "stdout",
     "output_type": "stream",
     "text": [
      "0.7254779140278425 0.7893576111161716 [0.5 1.5]\n",
      "[1.2110679472104842, 0.73, 1.6835549807462364]\n",
      "0.13780713081359863\n"
     ]
    },
    {
     "data": {
      "image/png": "[encoded data removed]",
      "text/plain": [
       "<Figure size 432x288 with 1 Axes>"
      ]
     },
     "metadata": {
      "needs_background": "light"
     },
     "output_type": "display_data"
    },
    {
     "name": "stdout",
     "output_type": "stream",
     "text": [
      "0.7334350171468252 0.8151584736977574 [0.5 1.5]\n",
      "[0.9244023155149241, 0.74, 1.679858309002751]\n",
      "0.13553977012634277\n"
     ]
    },
    {
     "data": {
      "image/png": "[encoded data removed]",
      "text/plain": [
       "<Figure size 432x288 with 1 Axes>"
      ]
     },
     "metadata": {
      "needs_background": "light"
     },
     "output_type": "display_data"
    },
    {
     "name": "stdout",
     "output_type": "stream",
     "text": [
      "0.7400809940573445 0.8402947222425352 [0.5 1.5]\n",
      "[0.5450258259237718, 0.75, 1.6739360014916422]\n",
      "0.14708995819091797\n"
     ]
    },
    {
     "data": {
      "image/png": "[encoded data removed]",
      "text/plain": [
       "<Figure size 432x288 with 1 Axes>"
      ]
     },
     "metadata": {
      "needs_background": "light"
     },
     "output_type": "display_data"
    },
    {
     "name": "stdout",
     "output_type": "stream",
     "text": [
      "0.7455175408039157 0.8646964426628733 [0.5 1.5]\n",
      "[0.10581632048303341, 0.76, 1.6658261250471795]\n",
      "0.14380741119384766\n"
     ]
    },
    {
     "data": {
      "image/png": "[encoded data removed]",
      "text/plain": [
       "<Figure size 432x288 with 1 Axes>"
      ]
     },
     "metadata": {
      "needs_background": "light"
     },
     "output_type": "display_data"
    },
    {
     "name": "stdout",
     "output_type": "stream",
     "text": [
      "0.7498458802494202 0.8883029137596825 [0.5 1.5]\n",
      "[0.49993005650329986, 0.77, 1.6392652222989457]\n",
      "0.13595890998840332\n"
     ]
    },
    {
     "data": {
      "image/png": "[encoded data removed]",
      "text/plain": [
       "<Figure size 432x288 with 1 Axes>"
      ]
     },
     "metadata": {
      "needs_background": "light"
     },
     "output_type": "display_data"
    }
   ],
   "source": [
    "for i in range(5):\n",
    "    print(x[0], x[1], goal)\n",
    "    tic = time.time() \n",
    "    u, ltraj = dwa_control(x, u, config, goal, ob)\n",
    "    print(time.time()-tic)\n",
    "\n",
    "    x = motion(x, u, config.dt)\n",
    "    traj = np.vstack((traj, x))  # store state history\n",
    "\n",
    "    # print(traj)\n",
    "    #print(x, goal, u)\n",
    "\n",
    "    if show_animation:\n",
    "        plt.cla()\n",
    "        plt.plot(ltraj[:, 0], ltraj[:, 1], \"-g\")\n",
    "        plt.plot(x[0], x[1], \"xr\")\n",
    "        plt.plot(goal[0], goal[1], \"xb\")\n",
    "        #plt.imshow(ob[:,:])\n",
    "        plt.plot(ox, oy, \"ok\")\n",
    "        plot_arrow(x[0], x[1], x[2])\n",
    "        plt.axis(\"equal\")\n",
    "        plt.grid(True)\n",
    "        plt.pause(0.0001)\n"
   ]
  },
  {
   "cell_type": "code",
   "execution_count": 104,
   "metadata": {},
   "outputs": [],
   "source": [
    "np.save(\"ob.npy\", ob)"
   ]
  }
 ],
 "metadata": {
  "kernelspec": {
   "display_name": "Python 3",
   "language": "python",
   "name": "python3"
  },
  "language_info": {
   "codemirror_mode": {
    "name": "ipython",
    "version": 3
   },
   "file_extension": ".py",
   "mimetype": "text/x-python",
   "name": "python",
   "nbconvert_exporter": "python",
   "pygments_lexer": "ipython3",
   "version": "3.7.1"
  }
 },
 "nbformat": 4,
 "nbformat_minor": 2
}
